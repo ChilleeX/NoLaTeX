{
 "cells": [
  {
   "cell_type": "code",
   "execution_count": 1,
   "metadata": {},
   "outputs": [],
   "source": [
    "from nolatex.ml_logic.registry import make_prediction\n",
    "path = '/home/diegoberan/code/ChilleeX/NoLaTeX/initial_test_data/onnx/c83050a3-dab2-4d13-b2c5-0f4143e2e31f.jpg'\n",
    "result = make_prediction(path)"
   ]
  },
  {
   "cell_type": "code",
   "execution_count": 2,
   "metadata": {},
   "outputs": [
    {
     "data": {
      "text/plain": [
       "'\\\\lim_{g\\\\to1^{+}}\\\\frac{\\\\frac{d}{dg}\\\\left(5+-2\\\\cos^{7}{g}\\\\right)}{\\\\frac{d}{dg}\\\\left(\\\\sin{g}+g\\\\sin^{6}{g}\\\\right)}                                                      '"
      ]
     },
     "execution_count": 2,
     "metadata": {},
     "output_type": "execute_result"
    }
   ],
   "source": [
    "result"
   ]
  },
  {
   "cell_type": "code",
   "execution_count": null,
   "metadata": {},
   "outputs": [],
   "source": []
  }
 ],
 "metadata": {
  "kernelspec": {
   "display_name": "NoLaTeX",
   "language": "python",
   "name": "python3"
  },
  "language_info": {
   "codemirror_mode": {
    "name": "ipython",
    "version": 3
   },
   "file_extension": ".py",
   "mimetype": "text/x-python",
   "name": "python",
   "nbconvert_exporter": "python",
   "pygments_lexer": "ipython3",
   "version": "3.10.6"
  }
 },
 "nbformat": 4,
 "nbformat_minor": 2
}
